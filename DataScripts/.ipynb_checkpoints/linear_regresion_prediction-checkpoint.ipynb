{
 "cells": [
  {
   "cell_type": "code",
   "execution_count": 3,
   "metadata": {},
   "outputs": [],
   "source": [
    "# Add py_package path to system PYTHONPATH file\n",
    "\n",
    "from sys import path\n",
    "\n",
    "from os.path import expanduser as expanduser\n",
    "from os.path import join as join\n",
    "\n",
    "py_path = expanduser(\"~\") \n",
    "for p in [\"Documents\", \"CallCenterStaffing\", \"DataScripts\", \"py_package\"]:\n",
    "    py_path = join(py_path, p)\n",
    "\n",
    "if py_path not in path:\n",
    "    path.append(py_path)"
   ]
  },
  {
   "cell_type": "code",
   "execution_count": 12,
   "metadata": {},
   "outputs": [
    {
     "data": {
      "text/html": [
       "<div>\n",
       "<style scoped>\n",
       "    .dataframe tbody tr th:only-of-type {\n",
       "        vertical-align: middle;\n",
       "    }\n",
       "\n",
       "    .dataframe tbody tr th {\n",
       "        vertical-align: top;\n",
       "    }\n",
       "\n",
       "    .dataframe thead th {\n",
       "        text-align: right;\n",
       "    }\n",
       "</style>\n",
       "<table border=\"1\" class=\"dataframe\">\n",
       "  <thead>\n",
       "    <tr style=\"text-align: right;\">\n",
       "      <th></th>\n",
       "      <th>service_name</th>\n",
       "      <th>service_key</th>\n",
       "      <th>date_value</th>\n",
       "      <th>date_key</th>\n",
       "      <th>hour_key</th>\n",
       "      <th>start_hour</th>\n",
       "      <th>end_hour</th>\n",
       "      <th>period_hour</th>\n",
       "      <th>avg_handle_time_sec</th>\n",
       "      <th>avg_handle_time_min</th>\n",
       "      <th>total_call</th>\n",
       "      <th>shift</th>\n",
       "    </tr>\n",
       "  </thead>\n",
       "  <tbody>\n",
       "    <tr>\n",
       "      <td>0</td>\n",
       "      <td>Billing</td>\n",
       "      <td>2</td>\n",
       "      <td>2019-03-18</td>\n",
       "      <td>20190318</td>\n",
       "      <td>6</td>\n",
       "      <td>06:00</td>\n",
       "      <td>06:59</td>\n",
       "      <td>06:00 - 06:59</td>\n",
       "      <td>356</td>\n",
       "      <td>6</td>\n",
       "      <td>4</td>\n",
       "      <td>1</td>\n",
       "    </tr>\n",
       "  </tbody>\n",
       "</table>\n",
       "</div>"
      ],
      "text/plain": [
       "  service_name  service_key  date_value  date_key  hour_key start_hour  \\\n",
       "0      Billing            2  2019-03-18  20190318         6      06:00   \n",
       "\n",
       "  end_hour    period_hour  avg_handle_time_sec  avg_handle_time_min  \\\n",
       "0    06:59  06:00 - 06:59                  356                    6   \n",
       "\n",
       "   total_call shift  \n",
       "0           4     1  "
      ]
     },
     "execution_count": 12,
     "metadata": {},
     "output_type": "execute_result"
    }
   ],
   "source": [
    "    \n",
    "import pandas as pd\n",
    "import numpy as np\n",
    "import matplotlib.pyplot as plt\n",
    "\n",
    "from importlib import reload\n",
    "from sklearn import datasets, linear_model\n",
    "from py_package import db_conn as db\n",
    "\n",
    "conn_dict = { \n",
    "    \"user\"     : \"szymonbocian\",   \\\n",
    "    \"password\" : \"\",               \\\n",
    "    \"host\"     : \"localhost\",      \\\n",
    "    \"port\"     : \"5432\",           \\\n",
    "    \"database\" : \"dwh_call_center\"\n",
    "}\n",
    "\n",
    "lin_regr_sets_dict = {\n",
    "    \"sets_year\"      : 2019, \\\n",
    "    \"train_set_week\" : 11,   \\\n",
    "    \"test_set_week\"  : 12\n",
    "}\n",
    "\n",
    "db = db.DbConn(conn_dict)\n",
    "\n",
    "train_X_sql_query = \"SELECT sdh.* FROM snap.service_date_hour_vw sdh INNER JOIN tech.date_dim dd ON sdh.date_key = dd.date_key WHERE dd.iso_week_of_year = '%(train_set_week)s' AND dd.year_value = %(sets_year)d;\" % lin_regr_sets_dict\n",
    "test_Y_sql_query = \"SELECT sdh.* FROM snap.service_date_hour_vw sdh INNER JOIN tech.date_dim dd ON sdh.date_key = dd.date_key WHERE dd.iso_week_of_year = '%(test_set_week)s' AND dd.year_value = %(sets_year)d;\" % lin_regr_sets_dict\n",
    "\n",
    "sql_dict = {\n",
    "    \"train_X\"      : train_X_sql_query,\n",
    "    \"sets_columns\" : \"SELECT column_name FROM INFORMATION_SCHEMA.columns WHERE table_schema = 'snap' AND table_name = 'service_date_hour_vw';\",\n",
    "    \"test_Y\"       : test_Y_sql_query\n",
    "}\n",
    "\n",
    "col = [t[0] for t in db.run_sql(sql_dict[\"sets_columns\"])]\n",
    "train_X_df = pd.DataFrame(db.run_sql(sql_dict[\"train_X\"]), columns = col)\n",
    "test_Y_df  = pd.DataFrame(db.run_sql(sql_dict[\"test_Y\"]), columns = col)\n",
    "\n",
    "train_X_df[\"shift\"] = train_X_df.apply(lambda x: \"1\" if x.hour_key < 16 else \"2\", axis = 1)\n",
    "test_Y_df[\"shift\"]  = test_Y_df.apply(lambda x: \"1\" if x.hour_key < 16 else \"2\", axis = 1)\n",
    "\n",
    "train_X_df.head(1)\n",
    "test_Y_df.head(1)"
   ]
  },
  {
   "cell_type": "code",
   "execution_count": 22,
   "metadata": {},
   "outputs": [
    {
     "name": "stdout",
     "output_type": "stream",
     "text": [
      "907 907 907\n"
     ]
    }
   ],
   "source": [
    "# adjust train to test or test to train sets depends on both sets size\n",
    "if train_X_df[\"total_call\"].size > test_Y_df[\"total_call\"].size:\n",
    "    l_size = test_Y_df[\"total_call\"].size\n",
    "else:\n",
    "    l_size = train_X_df[\"total_call\"].size\n",
    "    \n",
    "total_call_num_X = train_X_df[\"total_call\"][:l_size]\n",
    "total_call_num_Y = test_Y_df[\"total_call\"][:l_size]\n",
    "\n",
    "print(l_size, total_call_num_X.size, total_call_num_Y.size)"
   ]
  },
  {
   "cell_type": "code",
   "execution_count": 23,
   "metadata": {},
   "outputs": [
    {
     "name": "stdout",
     "output_type": "stream",
     "text": [
      "Coefficients: \n",
      " [[0.77109915]]\n",
      "Residual sum of squares: 729.60\n",
      "Variance score: 0.54\n"
     ]
    }
   ],
   "source": [
    "# linear regresion implementation\n",
    "\n",
    "# total_call_num_X = train_X_df[\"total_call\"] \n",
    "# total_call_num_Y = test_Y_df[\"total_call\"]\n",
    "\n",
    "total_call_num_X_train = total_call_num_X.values.reshape(-1, 1)\n",
    "total_call_num_Y_test = total_call_num_Y.values.reshape(-1, 1)\n",
    "\n",
    "regr = linear_model.LinearRegression()\n",
    "\n",
    "regr.fit(total_call_num_X_train, total_call_num_Y_test)\n",
    "\n",
    "# The coefficients\n",
    "print('Coefficients: \\n', regr.coef_)\n",
    "# The mean square error\n",
    "print(\"Residual sum of squares: %.2f\"\n",
    "      % np.mean((regr.predict(total_call_num_X_train) - total_call_num_Y_test) ** 2))\n",
    "# Explained variance score: 1 is perfect prediction\n",
    "print('Variance score: %.2f' % regr.score(total_call_num_X_train, total_call_num_Y_test))\n"
   ]
  },
  {
   "cell_type": "code",
   "execution_count": null,
   "metadata": {},
   "outputs": [],
   "source": []
  }
 ],
 "metadata": {
  "kernelspec": {
   "display_name": "Python 3",
   "language": "python",
   "name": "python3"
  },
  "language_info": {
   "codemirror_mode": {
    "name": "ipython",
    "version": 3
   },
   "file_extension": ".py",
   "mimetype": "text/x-python",
   "name": "python",
   "nbconvert_exporter": "python",
   "pygments_lexer": "ipython3",
   "version": "3.7.4"
  }
 },
 "nbformat": 4,
 "nbformat_minor": 2
}
