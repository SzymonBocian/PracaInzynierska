{
 "cells": [
  {
   "cell_type": "code",
   "execution_count": 2,
   "metadata": {},
   "outputs": [
    {
     "name": "stderr",
     "output_type": "stream",
     "text": [
      "/usr/local/lib/python3.7/site-packages/psycopg2/__init__.py:144: UserWarning: The psycopg2 wheel package will be renamed from release 2.8; in order to keep installing from binary please use \"pip install psycopg2-binary\" instead. For details see: <http://initd.org/psycopg/docs/install.html#binary-install-from-pypi>.\n",
      "  \"\"\")\n"
     ]
    }
   ],
   "source": [
    "\n",
    "import pandas as pd\n",
    "import datetime\n",
    "import time\n",
    "import matplotlib.pyplot as plt\n",
    "\n",
    "from py_package import py_module as pm"
   ]
  },
  {
   "cell_type": "code",
   "execution_count": 3,
   "metadata": {},
   "outputs": [],
   "source": [
    "l_path = pm.PathMaker(\"Documents/CallCenterStaffing\")\n",
    "\n",
    "l_input_path = l_path.create_path(\"Input\", \"single_call_fact.csv\")\n",
    "\n",
    "l_call_df = pd.read_csv(l_input_path)"
   ]
  },
  {
   "cell_type": "code",
   "execution_count": 4,
   "metadata": {},
   "outputs": [
    {
     "data": {
      "text/html": [
       "<div>\n",
       "<style scoped>\n",
       "    .dataframe tbody tr th:only-of-type {\n",
       "        vertical-align: middle;\n",
       "    }\n",
       "\n",
       "    .dataframe tbody tr th {\n",
       "        vertical-align: top;\n",
       "    }\n",
       "\n",
       "    .dataframe thead th {\n",
       "        text-align: right;\n",
       "    }\n",
       "</style>\n",
       "<table border=\"1\" class=\"dataframe\">\n",
       "  <thead>\n",
       "    <tr style=\"text-align: right;\">\n",
       "      <th></th>\n",
       "      <th>client_business_key</th>\n",
       "      <th>consultant_business_key</th>\n",
       "      <th>office_business_key</th>\n",
       "      <th>service_key</th>\n",
       "      <th>start_join_date_value</th>\n",
       "      <th>start_join_time_value</th>\n",
       "      <th>start_conv_date_value</th>\n",
       "      <th>start_conv_time_value</th>\n",
       "      <th>end_conn_date_value</th>\n",
       "      <th>end_conn_time_value</th>\n",
       "      <th>start_join_timestamp</th>\n",
       "    </tr>\n",
       "  </thead>\n",
       "  <tbody>\n",
       "    <tr>\n",
       "      <td>0</td>\n",
       "      <td>SB048048025M</td>\n",
       "      <td>AA032048000E</td>\n",
       "      <td>CALMIC1286</td>\n",
       "      <td>transport</td>\n",
       "      <td>2019-03-06 00:00:00</td>\n",
       "      <td>0 days 11:30:05.000000000</td>\n",
       "      <td>2019-03-06 00:00:00</td>\n",
       "      <td>0 days 11:40:26.000000000</td>\n",
       "      <td>2019-03-06 00:00:00</td>\n",
       "      <td>0 days 12:24:07.000000000</td>\n",
       "      <td>2019-03-06 11:30:05</td>\n",
       "    </tr>\n",
       "    <tr>\n",
       "      <td>1</td>\n",
       "      <td>SB048048025M</td>\n",
       "      <td>AA032048000E</td>\n",
       "      <td>CALCHO0796</td>\n",
       "      <td>transport</td>\n",
       "      <td>2019-03-06 00:00:00</td>\n",
       "      <td>0 days 10:28:20.000000000</td>\n",
       "      <td>2019-03-06 00:00:00</td>\n",
       "      <td>0 days 10:39:38.000000000</td>\n",
       "      <td>2019-03-06 00:00:00</td>\n",
       "      <td>0 days 10:53:21.000000000</td>\n",
       "      <td>2019-03-06 10:28:20</td>\n",
       "    </tr>\n",
       "    <tr>\n",
       "      <td>2</td>\n",
       "      <td>SB048048025M</td>\n",
       "      <td>AA032048000E</td>\n",
       "      <td>CALCHO0796</td>\n",
       "      <td>reclamation</td>\n",
       "      <td>2019-03-04 00:00:00</td>\n",
       "      <td>0 days 16:03:25.000000000</td>\n",
       "      <td>2019-03-04 00:00:00</td>\n",
       "      <td>0 days 16:11:16.000000000</td>\n",
       "      <td>2019-03-04 00:00:00</td>\n",
       "      <td>0 days 16:32:27.000000000</td>\n",
       "      <td>2019-03-04 16:03:25</td>\n",
       "    </tr>\n",
       "    <tr>\n",
       "      <td>3</td>\n",
       "      <td>SB048048025M</td>\n",
       "      <td>AA032048000E</td>\n",
       "      <td>CALHIM2138</td>\n",
       "      <td>transport</td>\n",
       "      <td>2019-03-06 00:00:00</td>\n",
       "      <td>0 days 11:04:03.000000000</td>\n",
       "      <td>2019-03-06 00:00:00</td>\n",
       "      <td>0 days 11:15:28.000000000</td>\n",
       "      <td>2019-03-06 00:00:00</td>\n",
       "      <td>0 days 11:45:06.000000000</td>\n",
       "      <td>2019-03-06 11:04:03</td>\n",
       "    </tr>\n",
       "    <tr>\n",
       "      <td>4</td>\n",
       "      <td>SB048048025M</td>\n",
       "      <td>AA032048000E</td>\n",
       "      <td>CALLEN0538</td>\n",
       "      <td>biling</td>\n",
       "      <td>2019-03-09 00:00:00</td>\n",
       "      <td>0 days 12:51:50.000000000</td>\n",
       "      <td>2019-03-09 00:00:00</td>\n",
       "      <td>0 days 13:12:10.000000000</td>\n",
       "      <td>2019-03-09 00:00:00</td>\n",
       "      <td>0 days 14:10:17.000000000</td>\n",
       "      <td>2019-03-09 12:51:50</td>\n",
       "    </tr>\n",
       "  </tbody>\n",
       "</table>\n",
       "</div>"
      ],
      "text/plain": [
       "  client_business_key consultant_business_key office_business_key  \\\n",
       "0        SB048048025M            AA032048000E          CALMIC1286   \n",
       "1        SB048048025M            AA032048000E          CALCHO0796   \n",
       "2        SB048048025M            AA032048000E          CALCHO0796   \n",
       "3        SB048048025M            AA032048000E          CALHIM2138   \n",
       "4        SB048048025M            AA032048000E          CALLEN0538   \n",
       "\n",
       "   service_key start_join_date_value      start_join_time_value  \\\n",
       "0    transport   2019-03-06 00:00:00  0 days 11:30:05.000000000   \n",
       "1    transport   2019-03-06 00:00:00  0 days 10:28:20.000000000   \n",
       "2  reclamation   2019-03-04 00:00:00  0 days 16:03:25.000000000   \n",
       "3    transport   2019-03-06 00:00:00  0 days 11:04:03.000000000   \n",
       "4       biling   2019-03-09 00:00:00  0 days 12:51:50.000000000   \n",
       "\n",
       "  start_conv_date_value      start_conv_time_value  end_conn_date_value  \\\n",
       "0   2019-03-06 00:00:00  0 days 11:40:26.000000000  2019-03-06 00:00:00   \n",
       "1   2019-03-06 00:00:00  0 days 10:39:38.000000000  2019-03-06 00:00:00   \n",
       "2   2019-03-04 00:00:00  0 days 16:11:16.000000000  2019-03-04 00:00:00   \n",
       "3   2019-03-06 00:00:00  0 days 11:15:28.000000000  2019-03-06 00:00:00   \n",
       "4   2019-03-09 00:00:00  0 days 13:12:10.000000000  2019-03-09 00:00:00   \n",
       "\n",
       "         end_conn_time_value start_join_timestamp  \n",
       "0  0 days 12:24:07.000000000  2019-03-06 11:30:05  \n",
       "1  0 days 10:53:21.000000000  2019-03-06 10:28:20  \n",
       "2  0 days 16:32:27.000000000  2019-03-04 16:03:25  \n",
       "3  0 days 11:45:06.000000000  2019-03-06 11:04:03  \n",
       "4  0 days 14:10:17.000000000  2019-03-09 12:51:50  "
      ]
     },
     "execution_count": 4,
     "metadata": {},
     "output_type": "execute_result"
    }
   ],
   "source": [
    "l_call_df.head(5)"
   ]
  },
  {
   "cell_type": "code",
   "execution_count": 5,
   "metadata": {},
   "outputs": [],
   "source": [
    "l_call_df[\"start_join_timestamp\"] = [ datetime.datetime.strptime(l, \"%Y-%m-%d %H:%M:%S\") for l in l_call_df[\"start_join_timestamp\"] ]\n",
    "\n",
    "#l_call_df.head(5)\n",
    "    \n",
    "#          pd.to_datetime(l_call_df[\"time_value\"], format = '%H:%M:%S').dt.hour]).size().plot()"
   ]
  },
  {
   "cell_type": "code",
   "execution_count": 22,
   "metadata": {},
   "outputs": [
    {
     "data": {
      "image/png": "[encoded data removed]",
      "text/plain": [
       "<Figure size 432x288 with 1 Axes>"
      ]
     },
     "metadata": {
      "needs_background": "light"
     },
     "output_type": "display_data"
    }
   ],
   "source": [
    "# Plot for every day in week\n",
    "\n",
    "l_call_df.groupby([\"start_join_date_value\"]).size().plot(kind = \"bar\")\n",
    "plt.show()"
   ]
  },
  {
   "cell_type": "code",
   "execution_count": 36,
   "metadata": {},
   "outputs": [
    {
     "data": {
      "text/plain": [
       "[start_join_date_value\n",
       " 2019-03-04 00:00:00    464\n",
       " 2019-03-05 00:00:00    427\n",
       " 2019-03-06 00:00:00    394\n",
       " 2019-03-07 00:00:00    388\n",
       " 2019-03-08 00:00:00    401\n",
       " 2019-03-09 00:00:00    415\n",
       " 2019-03-10 00:00:00    422\n",
       " dtype: int64, start_join_date_value\n",
       " 2019-03-04 00:00:00    441\n",
       " 2019-03-05 00:00:00    425\n",
       " 2019-03-06 00:00:00    377\n",
       " 2019-03-07 00:00:00    392\n",
       " 2019-03-08 00:00:00    433\n",
       " 2019-03-09 00:00:00    376\n",
       " 2019-03-10 00:00:00    405\n",
       " dtype: int64, start_join_date_value\n",
       " 2019-03-04 00:00:00    422\n",
       " 2019-03-05 00:00:00    399\n",
       " 2019-03-06 00:00:00    428\n",
       " 2019-03-07 00:00:00    434\n",
       " 2019-03-08 00:00:00    415\n",
       " 2019-03-09 00:00:00    398\n",
       " 2019-03-10 00:00:00    404\n",
       " dtype: int64, start_join_date_value\n",
       " 2019-03-04 00:00:00    405\n",
       " 2019-03-05 00:00:00    420\n",
       " 2019-03-06 00:00:00    426\n",
       " 2019-03-07 00:00:00    437\n",
       " 2019-03-08 00:00:00    418\n",
       " 2019-03-09 00:00:00    421\n",
       " 2019-03-10 00:00:00    415\n",
       " dtype: int64, start_join_date_value\n",
       " 2019-03-04 00:00:00    388\n",
       " 2019-03-05 00:00:00    437\n",
       " 2019-03-06 00:00:00    424\n",
       " 2019-03-07 00:00:00    399\n",
       " 2019-03-08 00:00:00    382\n",
       " 2019-03-09 00:00:00    443\n",
       " 2019-03-10 00:00:00    408\n",
       " dtype: int64, start_join_date_value\n",
       " 2019-03-04 00:00:00    377\n",
       " 2019-03-05 00:00:00    398\n",
       " 2019-03-06 00:00:00    392\n",
       " 2019-03-07 00:00:00    433\n",
       " 2019-03-08 00:00:00    411\n",
       " 2019-03-09 00:00:00    403\n",
       " 2019-03-10 00:00:00    402\n",
       " dtype: int64, start_join_date_value\n",
       " 2019-03-04 00:00:00    379\n",
       " 2019-03-05 00:00:00    418\n",
       " 2019-03-06 00:00:00    425\n",
       " 2019-03-07 00:00:00    447\n",
       " 2019-03-08 00:00:00    385\n",
       " 2019-03-09 00:00:00    406\n",
       " 2019-03-10 00:00:00    420\n",
       " dtype: int64, start_join_date_value\n",
       " 2019-03-04 00:00:00    374\n",
       " 2019-03-05 00:00:00    415\n",
       " 2019-03-06 00:00:00    358\n",
       " 2019-03-07 00:00:00    423\n",
       " 2019-03-08 00:00:00    413\n",
       " 2019-03-09 00:00:00    383\n",
       " 2019-03-10 00:00:00    388\n",
       " dtype: int64, start_join_date_value\n",
       " 2019-03-04 00:00:00    352\n",
       " 2019-03-05 00:00:00    433\n",
       " 2019-03-06 00:00:00    433\n",
       " 2019-03-07 00:00:00    396\n",
       " 2019-03-08 00:00:00    425\n",
       " 2019-03-09 00:00:00    397\n",
       " 2019-03-10 00:00:00    399\n",
       " dtype: int64, start_join_date_value\n",
       " 2019-03-04 00:00:00    436\n",
       " 2019-03-05 00:00:00    367\n",
       " 2019-03-06 00:00:00    413\n",
       " 2019-03-07 00:00:00    386\n",
       " 2019-03-08 00:00:00    407\n",
       " 2019-03-09 00:00:00    401\n",
       " 2019-03-10 00:00:00    413\n",
       " dtype: int64]"
      ]
     },
     "execution_count": 36,
     "metadata": {},
     "output_type": "execute_result"
    }
   ],
   "source": [
    "#plt.subplot(121)\n",
    "# print(l_call_df.service_key.unique())\n",
    "l = []\n",
    "for s in l_call_df.service_key.unique():\n",
    "    l.append(l_call_df[(l_call_df.service_key == s)].groupby(['start_join_date_value']).size())\n",
    "    \n",
    "l\n",
    "\n",
    "# transport = l_call_df[(l_call_df.service_key == 'transport')].groupby(['start_join_date_value']).size() #.plot(kind = \"bar\")\n",
    "# print(transport)"
   ]
  },
  {
   "cell_type": "code",
   "execution_count": 8,
   "metadata": {},
   "outputs": [
    {
     "name": "stdout",
     "output_type": "stream",
     "text": [
      "<pandas.core.groupby.generic.DataFrameGroupBy object at 0x10a1f86d0>\n"
     ]
    }
   ],
   "source": [
    "l_call_df.plot(x = \"start_join_date_value\", )"
   ]
  },
  {
   "cell_type": "code",
   "execution_count": null,
   "metadata": {},
   "outputs": [],
   "source": []
  }
 ],
 "metadata": {
  "kernelspec": {
   "display_name": "Python 3",
   "language": "python",
   "name": "python3"
  },
  "language_info": {
   "codemirror_mode": {
    "name": "ipython",
    "version": 3
   },
   "file_extension": ".py",
   "mimetype": "text/x-python",
   "name": "python",
   "nbconvert_exporter": "python",
   "pygments_lexer": "ipython3",
   "version": "3.7.4"
  }
 },
 "nbformat": 4,
 "nbformat_minor": 2
}
