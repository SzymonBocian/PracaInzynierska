{
 "cells": [
  {
   "cell_type": "code",
   "execution_count": 2,
   "metadata": {},
   "outputs": [],
   "source": [
    "import os\n",
    "import psycopg2 as psy\n",
    "import pandas as pd\n",
    "import numpy as np\n",
    "import time\n",
    "\n",
    "from py_package import py_module as pm\n",
    "from datetime import datetime as dt\n",
    "from datetime import timedelta\n",
    "\n",
    "from random   import choice"
   ]
  },
  {
   "cell_type": "code",
   "execution_count": 4,
   "metadata": {},
   "outputs": [
    {
     "name": "stdout",
     "output_type": "stream",
     "text": [
      "{'user': 'szymonbocian', 'password': '', 'host': 'localhost', 'port': '5432', 'database': 'dwh_call_center'}\n"
     ]
    }
   ],
   "source": [
    "#''' Check if file exists on path. Move existing file to ARCH. Create new input for calendar_fact.'''\n",
    "\n",
    "# a = py_package.py_module.atest(5)\n",
    "# print(a)\n",
    "\n",
    "connection_dict = { \"user\" : \"szymonbocian\", \\\n",
    "                    \"password\" : \"\", \\\n",
    "                    \"host\" : \"localhost\", \\\n",
    "                    \"port\" : \"5432\", \\\n",
    "                    \"database\" : \"dwh_call_center\"\n",
    "                  }\n",
    "# print(connection_dict)\n",
    "\n",
    "a = pm.DbConnection(\"\")\n"
   ]
  },
  {
   "cell_type": "code",
   "execution_count": 106,
   "metadata": {},
   "outputs": [
    {
     "name": "stdout",
     "output_type": "stream",
     "text": [
      "6\n",
      "22\n"
     ]
    }
   ],
   "source": [
    "# Setup script input parameters\n",
    "\n",
    "week_of_year = 10\n",
    "value_year = 2019\n",
    "employee_number = 100\n",
    "work_start_time = 6 # 06:00 am\n",
    "work_end_time = 22  # 10:00 pm\n",
    "\n",
    "def get_time(time):\n",
    "    return ('0' + str(time) + ':00')[-5:]\n",
    "\n",
    "# work_start_time = get_time(work_start_time)\n",
    "# work_end_time = get_time(work_end_time)\n",
    "\n",
    "print(work_start_time)\n",
    "print(work_end_time)"
   ]
  },
  {
   "cell_type": "code",
   "execution_count": 4,
   "metadata": {},
   "outputs": [],
   "source": [
    "main_path    = \"Documents/CallCenterStaffing\"\n",
    "path_to_arch = \"Arch/calendar\"\n",
    "path_to_file = \"Input\"\n",
    "file_name    = \"consultant_work_calendar_fact.csv\"\n",
    "\n",
    "now          = dt.now()\n",
    "\n",
    "path_to_file = os.path.join(os.path.expanduser(\"~\"),main_path,path_to_file,file_name)\n",
    "path_to_arch = os.path.join(os.path.expanduser(\"~\"),main_path,path_to_arch)\n",
    "\n",
    "def is_path_not_correct(path):\n",
    "    return not(os.path.exists(path))\n",
    "\n",
    "def is_path_correct(path):\n",
    "    return os.path.exists(path)\n",
    "\n",
    "if is_path_not_correct(path_to_file):\n",
    "    raise Exception(\"Input file doesn't exist\")\n",
    "\n",
    "if is_path_not_correct(path_to_arch):\n",
    "    raise Exception(\"Archive directory doesn't exist\")\n",
    "\n",
    "time_stamp = \"_\" + str(now)[:10]\n",
    "arch_file_name = 'arch_' + file_name.replace(\".csv\",time_stamp + \".csv\")\n",
    " \n",
    "os.rename(path_to_file, os.path.join(path_to_arch, arch_file_name))"
   ]
  },
  {
   "cell_type": "code",
   "execution_count": 58,
   "metadata": {},
   "outputs": [
    {
     "name": "stdout",
     "output_type": "stream",
     "text": [
      "['work_calendar_business_key', 'consultant_business_key', 'office_business_key', 'work_date', 'work_start_time', 'work_end_time']\n",
      "['AA032048000E', 'WP056056004E', 'MM040048004E', 'PM064064004E', 'EG040040004E', 'MG072024004E', 'LD056088004E', 'KK048064004E', 'ET072096004E', 'JP056040004E', 'SK064048004E', 'BG048080004E', 'KP048064004E', 'MA040088004E', 'OK056088004E', 'KK056088004E', 'DP040056004E', 'RK032064004E', 'BF040048004E', 'SK048040004E', 'MH072040004E', 'NK056072004E', 'WC056056004E', 'ZK064072004E', 'HK048064004E', 'IK024048004E', 'BG072048004E', 'OK048024004E', 'IK032072004E', 'KG072048004E', 'JK056056004E', 'AZ040032004E', 'NL048056004E', 'RR064040004E', 'BJ040056004E', 'LK032048004E', 'MK064072004E', 'CO056040004E', 'KM064072004E', 'FN048056004E', 'EI032080004E', 'MF056032004E', 'MT048088004E', 'PK048072004E', 'KB056064004E', 'SP072048004E', 'AM040056004E', 'MK040040004E', 'FB064040004E', 'JA024088004E', 'MU056064004E', 'MG040040004E', 'JG064040004E', 'TF040072004E', 'MN088040004E', 'JS040056004E', 'MK056072004E', 'SM056072004E', 'IM040040004E', 'DP048064004E', 'MG072056004E', 'MD064048004E', 'CG056064004E', 'KB048048004E', 'BP080032004E', 'JW064064004E', 'LK048080004E', 'RM032056004E', 'ES064040004E', 'MA056072004E', 'BJ056080004E', 'PD040072004E', 'MM048064004E', 'JK056064004E', 'AM040104004E', 'NK064080004E', 'FD064064004E', 'ZP056048004E', 'BT040064004E', 'IM056104004E', 'OW048088004E', 'AK032048004E', 'BS040064004E', 'KP072096004E', 'TP032112004E', 'OP056048004E', 'KM080080004E', 'TM048040004E', 'IM024080004E', 'JL048064004E', 'TT032096004E', 'JK056040004E', 'AK048064004E', 'PK040096004E', 'DF056040004E', 'FK080048004E', 'JF056048004E', 'RM048056004E', 'AP080080004E', 'OJ056080004E', 'MZ048064004E', 'MB048064004E', 'IB040040004E', 'PS048048004E', 'AR064040004E', 'JU040040004E', 'ZP080104004E', 'HS040048004E', 'MR056040004E', 'SM048040004E']\n",
      "['CALMIC1286', 'CALCHO0796', 'CALHIM2138', 'CALLEN0538']\n",
      "[(datetime.date(2019, 3, 4), datetime.date(2019, 3, 10))]\n"
     ]
    }
   ],
   "source": [
    "# connection to database and return list of column column_list\n",
    "try:\n",
    "    connection = psy.connect( user = \"szymonbocian\",\n",
    "                              password = \"\",\n",
    "                              host = \"localhost\",\n",
    "                              port = \"5432\",\n",
    "                              database = \"dwh_call_center\")\n",
    "\n",
    "    cursor = connection.cursor()\n",
    "\n",
    "    cursor.execute(\"\"\"\n",
    "        SELECT column_name \n",
    "        FROM INFORMATION_SCHEMA.columns \n",
    "        WHERE table_schema = 'stg' AND table_name = 'consultant_work_calendar_fact';\n",
    "    \"\"\")\n",
    "    column_list = cursor.fetchall()\n",
    "    \n",
    "    cursor.execute(\"\"\"\n",
    "        SELECT consultant_business_key \n",
    "        FROM pro.consultant_dim\n",
    "        WHERE active = True;\n",
    "    \"\"\")\n",
    "    consultant_business_key_list = cursor.fetchall()\n",
    "    \n",
    "    cursor.execute(\"\"\"\n",
    "        SELECT office_business_key\n",
    "        FROM pro.office_dim \n",
    "        WHERE active = True;\n",
    "    \"\"\")\n",
    "    office_business_key_list = cursor.fetchall()\n",
    "\n",
    "    cursor.execute( \"SELECT \" + \\\n",
    "                    \"MAX(start_of_week_mon_date), MAX(end_of_week_mon_date) \" + \\\n",
    "                    \"FROM tech.date_dim \" + \\\n",
    "                    \"WHERE iso_week_of_year = \" + str(week_of_year) + \" AND year_value = \" + str(value_year) + \";\"\n",
    "                  )\n",
    "    week_list = cursor.fetchall()\n",
    "        \n",
    "except (Exception, psy.Error) as error :\n",
    "    print (\"Error while connecting to PostgreSQL\", error)\n",
    "finally:\n",
    "        if(connection):\n",
    "            cursor.close()\n",
    "            connection.close()\n",
    "\n",
    "column_list = [''.join(c for c in s if c not in '(),') for s in column_list]\n",
    "consultant_business_key_list = [''.join(c for c in s if c not in '(),') for s in consultant_business_key_list]\n",
    "office_business_key_list = [''.join(c for c in s if c not in '(),') for s in office_business_key_list]\n",
    "print(column_list)\n",
    "print(consultant_business_key_list)\n",
    "print(office_business_key_list)\n",
    "print(week_list)"
   ]
  },
  {
   "cell_type": "code",
   "execution_count": 109,
   "metadata": {},
   "outputs": [
    {
     "ename": "TypeError",
     "evalue": "descriptor 'timestamp' requires a 'datetime.datetime' object but received a 'datetime.date'",
     "output_type": "error",
     "traceback": [
      "\u001b[0;31m---------------------------------------------------------------------------\u001b[0m",
      "\u001b[0;31mTypeError\u001b[0m                                 Traceback (most recent call last)",
      "\u001b[0;32m<ipython-input-109-792f320edbda>\u001b[0m in \u001b[0;36m<module>\u001b[0;34m\u001b[0m\n\u001b[1;32m      4\u001b[0m \u001b[0;31m# })\u001b[0m\u001b[0;34m\u001b[0m\u001b[0;34m\u001b[0m\u001b[0;34m\u001b[0m\u001b[0m\n\u001b[1;32m      5\u001b[0m \u001b[0;34m\u001b[0m\u001b[0m\n\u001b[0;32m----> 6\u001b[0;31m \u001b[0mstart_time\u001b[0m \u001b[0;34m=\u001b[0m \u001b[0mdt\u001b[0m\u001b[0;34m.\u001b[0m\u001b[0mtimestamp\u001b[0m\u001b[0;34m(\u001b[0m\u001b[0mweek_list\u001b[0m\u001b[0;34m[\u001b[0m\u001b[0;36m0\u001b[0m\u001b[0;34m]\u001b[0m\u001b[0;34m[\u001b[0m\u001b[0;36m0\u001b[0m\u001b[0;34m]\u001b[0m\u001b[0;34m)\u001b[0m \u001b[0;34m+\u001b[0m \u001b[0mtimedelta\u001b[0m\u001b[0;34m(\u001b[0m\u001b[0mhours\u001b[0m \u001b[0;34m=\u001b[0m \u001b[0mwork_start_time\u001b[0m\u001b[0;34m)\u001b[0m\u001b[0;34m\u001b[0m\u001b[0;34m\u001b[0m\u001b[0m\n\u001b[0m\u001b[1;32m      7\u001b[0m \u001b[0mprint\u001b[0m\u001b[0;34m(\u001b[0m\u001b[0mstart_time\u001b[0m\u001b[0;34m)\u001b[0m\u001b[0;34m\u001b[0m\u001b[0;34m\u001b[0m\u001b[0m\n\u001b[1;32m      8\u001b[0m df_date = pd.DataFrame({\n",
      "\u001b[0;31mTypeError\u001b[0m: descriptor 'timestamp' requires a 'datetime.datetime' object but received a 'datetime.date'"
     ]
    }
   ],
   "source": [
    "# df_cons = pd.DataFrame({\n",
    "#     \"consultant_business_key\" : consultant_business_key_list,\n",
    "#     \"office_business_key\" : np.random.choice(office_business_key_list, len(consultant_business_key_list)),\n",
    "# })\n",
    "\n",
    "start_time = time.mktime(datetime.timestamp(week_list[0][0]) + timedelta(hours = work_start_time)\n",
    "print(start_time)\n",
    "df_date = pd.DataFrame({\n",
    "    \"work_date\" : pd.date_range(start = week_list[0][0], end = week_list[0][1])\n",
    "})\n",
    "\n",
    "# work_time = work_end_time - work_start_time\n",
    "\n",
    "\n",
    "\n",
    "# df_time = pd.DataFrame({\n",
    "#     \"work_time\" : pd.date_range('2019-01-10', periods = work_time, freq = '8')\n",
    "# })\n",
    "# df_time\n",
    "# print(week_list[0][0])\n",
    "# print(week_list[0][1])"
   ]
  },
  {
   "cell_type": "code",
   "execution_count": 51,
   "metadata": {},
   "outputs": [
    {
     "data": {
      "text/plain": [
       "358400"
      ]
     },
     "execution_count": 51,
     "metadata": {},
     "output_type": "execute_result"
    }
   ],
   "source": [
    "# liczba_dni * liczba_godzin * liczba_pracowników * średnia_liczba_połączeń_na_godzinę\n",
    "# 7 dni w tygodniu , od 6:00 do 22:00 ( 16 godzin )\n",
    "# 100 konsultantów\n",
    "# 5 - 8 połączeń na godzinę / konsultant\n",
    "# dane z 4 tygodni i prognozowanie na ich podstawie\n",
    "#tydzień\n",
    "# 7*16*100*5     # = 56 000\n",
    "# 7*16*100*8     # = 89 600\n",
    "# 4 tygodnie     \n",
    "# 4*7*16*100*5    # = 224 000\n",
    "# 4*7*16*100*8    # = 358 400\n"
   ]
  },
  {
   "cell_type": "code",
   "execution_count": null,
   "metadata": {},
   "outputs": [],
   "source": []
  }
 ],
 "metadata": {
  "kernelspec": {
   "display_name": "Python 3",
   "language": "python",
   "name": "python3"
  },
  "language_info": {
   "codemirror_mode": {
    "name": "ipython",
    "version": 3
   },
   "file_extension": ".py",
   "mimetype": "text/x-python",
   "name": "python",
   "nbconvert_exporter": "python",
   "pygments_lexer": "ipython3",
   "version": "3.7.4"
  }
 },
 "nbformat": 4,
 "nbformat_minor": 2
}
