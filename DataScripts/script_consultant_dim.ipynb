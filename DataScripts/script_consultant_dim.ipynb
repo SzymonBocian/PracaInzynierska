{
 "cells": [
  {
   "cell_type": "code",
   "execution_count": 2,
   "metadata": {},
   "outputs": [
    {
     "name": "stderr",
     "output_type": "stream",
     "text": [
      "/usr/local/lib/python3.7/site-packages/psycopg2/__init__.py:144: UserWarning: The psycopg2 wheel package will be renamed from release 2.8; in order to keep installing from binary please use \"pip install psycopg2-binary\" instead. For details see: <http://initd.org/psycopg/docs/install.html#binary-install-from-pypi>.\n",
      "  \"\"\")\n"
     ]
    }
   ],
   "source": [
    "import os\n",
    "import numpy    as np\n",
    "import pandas   as pd\n",
    "import psycopg2 as psy\n",
    "\n",
    "from datetime import datetime as dt\n",
    "from random   import randrange\n",
    "from random   import sample\n",
    "from random   import choice"
   ]
  },
  {
   "cell_type": "code",
   "execution_count": 3,
   "metadata": {},
   "outputs": [],
   "source": [
    "#''' Check if file exists on path. Move existing file to ARCH. Create new input for consultant_dim.'''\n"
   ]
  },
  {
   "cell_type": "code",
   "execution_count": 4,
   "metadata": {},
   "outputs": [
    {
     "data": {
      "text/plain": [
       "109"
      ]
     },
     "execution_count": 4,
     "metadata": {},
     "output_type": "execute_result"
    }
   ],
   "source": [
    "# Setup script input parameters\n",
    "\n",
    "min_obs = 100                      # minimal number of observation in output dataset\n",
    "max_obs = 110                     # maximal number of observation in output dataset\n",
    "\n",
    "obs = randrange(min_obs,max_obs) # number of observation\n",
    "obs"
   ]
  },
  {
   "cell_type": "code",
   "execution_count": 5,
   "metadata": {},
   "outputs": [],
   "source": [
    "main_path    = \"Documents/CallCenterStaffing\"\n",
    "path_to_arch = \"Arch/consultant\"\n",
    "path_to_file = \"Input\"\n",
    "path_to_dict = \"Dict\"\n",
    "file_name    = \"consultant_dim.csv\"\n",
    "name_dict    = \"name_dict.csv\"\n",
    "\n",
    "now          = dt.now()\n",
    "\n",
    "path_to_file = os.path.join(os.path.expanduser(\"~\"),main_path,path_to_file,file_name)\n",
    "path_to_arch = os.path.join(os.path.expanduser(\"~\"),main_path,path_to_arch)\n",
    "name_dict    = os.path.join(os.path.expanduser(\"~\"),main_path,path_to_dict,name_dict)\n",
    "\n",
    "def is_path_not_correct(path):\n",
    "    return not(os.path.exists(path))\n",
    "\n",
    "def is_path_correct(path):\n",
    "    return os.path.exists(path)\n",
    "\n",
    "if is_path_not_correct(path_to_file):\n",
    "    raise Exception(\"Input file doesn't exist\")\n",
    "\n",
    "if is_path_not_correct(path_to_arch):\n",
    "    raise Exception(\"Archive directory doesn't exist\")\n",
    "        \n",
    "if is_path_not_correct(name_dict):\n",
    "    raise Exception(\"Name dictionary doesn't exist\")\n",
    "\n",
    "time_stamp = \"_\" + str(now)[:10]\n",
    "arch_file_name = 'arch_' + file_name.replace(\".csv\",time_stamp + \".csv\")\n",
    " \n",
    "os.rename(path_to_file, os.path.join(path_to_arch, arch_file_name))"
   ]
  },
  {
   "cell_type": "code",
   "execution_count": 6,
   "metadata": {},
   "outputs": [
    {
     "name": "stdout",
     "output_type": "stream",
     "text": [
      "['consultant_first_name', 'consultant_second_name', 'consultant_last_name', 'manager_key', 'consultant_business_key']\n",
      "[4]\n"
     ]
    }
   ],
   "source": [
    "# connection to database and return list of column column_list\n",
    "try:\n",
    "    connection = psy.connect( user = \"szymonbocian\",\n",
    "                              password = \"\",\n",
    "                              host = \"localhost\",\n",
    "                              port = \"5432\",\n",
    "                              database = \"dwh_call_center\")\n",
    "\n",
    "    cursor = connection.cursor()\n",
    "\n",
    "    query = \"SELECT column_name FROM INFORMATION_SCHEMA.columns WHERE table_schema = 'stg' AND table_name = 'consultant_dim';\"\n",
    "    cursor.execute(query)\n",
    "    column_list = cursor.fetchall()\n",
    "    \n",
    "    query = \"SELECT DISTINCT consultant_key FROM pro.consultant_dim WHERE manager_key IS NULL;\"\n",
    "    cursor.execute(query)\n",
    "    manager_list = cursor.fetchall()\n",
    "    \n",
    "except (Exception, psy.Error) as error :\n",
    "    print (\"Error while connecting to PostgreSQL\", error)\n",
    "finally:\n",
    "        if(connection):\n",
    "            cursor.close()\n",
    "            connection.close()\n",
    "\n",
    "column_list = [''.join(c for c in s if c not in '(),') for s in column_list]\n",
    "\n",
    "a = list()\n",
    "for row in manager_list:\n",
    "    a.append(row[0])\n",
    "\n",
    "manager_list = a\n",
    "    \n",
    "print(column_list)\n",
    "print(manager_list)"
   ]
  },
  {
   "cell_type": "code",
   "execution_count": 7,
   "metadata": {},
   "outputs": [],
   "source": [
    "# Load dictionary with first_name (second_name), last_name\n",
    "dict_name = pd.read_csv( name_dict,\n",
    "                         sep = \";\",\n",
    "                         usecols = ['male_name','female_name','last_name'],\n",
    "                         skiprows = 0\n",
    "                       )"
   ]
  },
  {
   "cell_type": "code",
   "execution_count": 12,
   "metadata": {},
   "outputs": [],
   "source": [
    "f = pd.concat([dict_name.male_name,dict_name.female_name])\n",
    "\n",
    "df = pd.DataFrame({\n",
    "    \"first_name\"  : sample(tuple(f), k = obs),\n",
    "    \"is_sec_name\" : np.random.choice([True, False], obs, True, [0.15, 0.85])\n",
    "})\n",
    "\n",
    "df['is_male']   = df.first_name.isin(dict_name.male_name)\n",
    "df['is_female'] = df.first_name.isin(dict_name.female_name)\n",
    "\n",
    "df['second_name'] = df.apply(lambda l: choice(dict_name.male_name) if l['is_male'] and l['is_sec_name'] else \"\", axis = 1)\n",
    "df['second_name'] = df.apply(lambda l: choice(dict_name.female_name) if l['is_female'] and l['is_sec_name'] else l['second_name'], axis = 1)\n",
    "\n",
    "df['last_name'] = sample(tuple(dict_name.last_name),k = obs)\n",
    "\n",
    "df['manager_key'] = np.random.choice(manager_list)"
   ]
  },
  {
   "cell_type": "code",
   "execution_count": 13,
   "metadata": {},
   "outputs": [],
   "source": [
    "# Create consultant business key \n",
    "fnl = ('00' + (df.first_name.str.len() *8).astype(str))\n",
    "lnl = ('00' + (df.last_name.str.len() *8).astype(str))\n",
    "cal = ('00' + df.manager_key.astype(str))\n",
    "\n",
    "df['consultant_business_key'] = df.first_name.map(str).str.slice(0,1) + df.last_name.map(str).str.slice(0,1) + [w[-3:] for w in fnl] + [w[-3:] for w in lnl] + [w[-3:] for w in cal] + \"E\""
   ]
  },
  {
   "cell_type": "code",
   "execution_count": 14,
   "metadata": {},
   "outputs": [
    {
     "data": {
      "text/html": [
       "<div>\n",
       "<style scoped>\n",
       "    .dataframe tbody tr th:only-of-type {\n",
       "        vertical-align: middle;\n",
       "    }\n",
       "\n",
       "    .dataframe tbody tr th {\n",
       "        vertical-align: top;\n",
       "    }\n",
       "\n",
       "    .dataframe thead th {\n",
       "        text-align: right;\n",
       "    }\n",
       "</style>\n",
       "<table border=\"1\" class=\"dataframe\">\n",
       "  <thead>\n",
       "    <tr style=\"text-align: right;\">\n",
       "      <th></th>\n",
       "      <th>first_name</th>\n",
       "      <th>second_name</th>\n",
       "      <th>last_name</th>\n",
       "      <th>manager_key</th>\n",
       "      <th>consultant_business_key</th>\n",
       "    </tr>\n",
       "  </thead>\n",
       "  <tbody>\n",
       "    <tr>\n",
       "      <td>0</td>\n",
       "      <td>Wincent</td>\n",
       "      <td></td>\n",
       "      <td>Partyka</td>\n",
       "      <td>4</td>\n",
       "      <td>WP056056004E</td>\n",
       "    </tr>\n",
       "    <tr>\n",
       "      <td>1</td>\n",
       "      <td>Milan</td>\n",
       "      <td></td>\n",
       "      <td>Moskal</td>\n",
       "      <td>4</td>\n",
       "      <td>MM040048004E</td>\n",
       "    </tr>\n",
       "    <tr>\n",
       "      <td>2</td>\n",
       "      <td>Polikarp</td>\n",
       "      <td></td>\n",
       "      <td>Michalak</td>\n",
       "      <td>4</td>\n",
       "      <td>PM064064004E</td>\n",
       "    </tr>\n",
       "    <tr>\n",
       "      <td>3</td>\n",
       "      <td>Eliza</td>\n",
       "      <td></td>\n",
       "      <td>Gondz</td>\n",
       "      <td>4</td>\n",
       "      <td>EG040040004E</td>\n",
       "    </tr>\n",
       "    <tr>\n",
       "      <td>4</td>\n",
       "      <td>Miłosława</td>\n",
       "      <td></td>\n",
       "      <td>Gut</td>\n",
       "      <td>4</td>\n",
       "      <td>MG072024004E</td>\n",
       "    </tr>\n",
       "    <tr>\n",
       "      <td>...</td>\n",
       "      <td>...</td>\n",
       "      <td>...</td>\n",
       "      <td>...</td>\n",
       "      <td>...</td>\n",
       "      <td>...</td>\n",
       "    </tr>\n",
       "    <tr>\n",
       "      <td>104</td>\n",
       "      <td>Jacek</td>\n",
       "      <td></td>\n",
       "      <td>Unrug</td>\n",
       "      <td>4</td>\n",
       "      <td>JU040040004E</td>\n",
       "    </tr>\n",
       "    <tr>\n",
       "      <td>105</td>\n",
       "      <td>Zachariasz</td>\n",
       "      <td></td>\n",
       "      <td>Paluszkiewicz</td>\n",
       "      <td>4</td>\n",
       "      <td>ZP080104004E</td>\n",
       "    </tr>\n",
       "    <tr>\n",
       "      <td>106</td>\n",
       "      <td>Helen</td>\n",
       "      <td></td>\n",
       "      <td>Smolar</td>\n",
       "      <td>4</td>\n",
       "      <td>HS040048004E</td>\n",
       "    </tr>\n",
       "    <tr>\n",
       "      <td>107</td>\n",
       "      <td>Mateusz</td>\n",
       "      <td>Bartłomiej</td>\n",
       "      <td>Rusek</td>\n",
       "      <td>4</td>\n",
       "      <td>MR056040004E</td>\n",
       "    </tr>\n",
       "    <tr>\n",
       "      <td>108</td>\n",
       "      <td>Stefan</td>\n",
       "      <td></td>\n",
       "      <td>Mazuś</td>\n",
       "      <td>4</td>\n",
       "      <td>SM048040004E</td>\n",
       "    </tr>\n",
       "  </tbody>\n",
       "</table>\n",
       "<p>109 rows × 5 columns</p>\n",
       "</div>"
      ],
      "text/plain": [
       "     first_name second_name      last_name  manager_key  \\\n",
       "0       Wincent                    Partyka            4   \n",
       "1         Milan                     Moskal            4   \n",
       "2      Polikarp                   Michalak            4   \n",
       "3         Eliza                      Gondz            4   \n",
       "4     Miłosława                        Gut            4   \n",
       "..          ...         ...            ...          ...   \n",
       "104       Jacek                      Unrug            4   \n",
       "105  Zachariasz              Paluszkiewicz            4   \n",
       "106       Helen                     Smolar            4   \n",
       "107     Mateusz  Bartłomiej          Rusek            4   \n",
       "108      Stefan                      Mazuś            4   \n",
       "\n",
       "    consultant_business_key  \n",
       "0              WP056056004E  \n",
       "1              MM040048004E  \n",
       "2              PM064064004E  \n",
       "3              EG040040004E  \n",
       "4              MG072024004E  \n",
       "..                      ...  \n",
       "104            JU040040004E  \n",
       "105            ZP080104004E  \n",
       "106            HS040048004E  \n",
       "107            MR056040004E  \n",
       "108            SM048040004E  \n",
       "\n",
       "[109 rows x 5 columns]"
      ]
     },
     "execution_count": 14,
     "metadata": {},
     "output_type": "execute_result"
    }
   ],
   "source": [
    "df = df.drop(['is_sec_name', 'is_male', 'is_female'], axis = 1)\n",
    "df"
   ]
  },
  {
   "cell_type": "code",
   "execution_count": 15,
   "metadata": {},
   "outputs": [],
   "source": [
    "# Create csv file with given destination\n",
    "\n",
    "df.columns = column_list\n",
    "df.to_csv(path_to_file, index = None, header = True)"
   ]
  },
  {
   "cell_type": "code",
   "execution_count": null,
   "metadata": {},
   "outputs": [],
   "source": []
  }
 ],
 "metadata": {
  "kernelspec": {
   "display_name": "Python 3",
   "language": "python",
   "name": "python3"
  },
  "language_info": {
   "codemirror_mode": {
    "name": "ipython",
    "version": 3
   },
   "file_extension": ".py",
   "mimetype": "text/x-python",
   "name": "python",
   "nbconvert_exporter": "python",
   "pygments_lexer": "ipython3",
   "version": "3.7.4"
  }
 },
 "nbformat": 4,
 "nbformat_minor": 2
}
