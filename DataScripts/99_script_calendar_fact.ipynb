{
 "cells": [
  {
   "cell_type": "code",
   "execution_count": 74,
   "metadata": {},
   "outputs": [
    {
     "data": {
      "text/plain": [
       "<module 'py_package.path_maker' from '/Users/szymonbocian/Documents/CallCenterStaffing/DataScripts/py_package/path_maker.py'>"
      ]
     },
     "execution_count": 74,
     "metadata": {},
     "output_type": "execute_result"
    }
   ],
   "source": [
    "import os\n",
    "import pandas as pd\n",
    "import numpy as np\n",
    "import time\n",
    "\n",
    "from py_package import db_conn as db\n",
    "from datetime import datetime\n",
    "from datetime import timedelta\n",
    "\n",
    "from random   import choice\n",
    "\n",
    "reload(db)"
   ]
  },
  {
   "cell_type": "code",
   "execution_count": 75,
   "metadata": {},
   "outputs": [],
   "source": [
    "#''' Check if file exists on path. Move existing file to ARCH. Create new input for calendar_fact.'''\n",
    "\n",
    "connection_dict = { \"user\"     : \"szymonbocian\", \\\n",
    "                    \"password\" : \"\", \\\n",
    "                    \"host\"     : \"localhost\", \\\n",
    "                    \"port\"     : \"5432\", \\\n",
    "                    \"database\" : \"dwh_call_center\"\n",
    "                  }\n",
    "\n",
    "db = db.DbConn(connection_dict)"
   ]
  },
  {
   "cell_type": "code",
   "execution_count": 78,
   "metadata": {},
   "outputs": [],
   "source": [
    "# connection to database and return list of column column_list\n",
    "# print(db.run_sql(\"select * from stg.client_dim;\"))\n",
    "\n",
    "sql_dict = {\n",
    "    \"column_list\"                  : \"SELECT column_name FROM INFORMATION_SCHEMA.columns WHERE table_schema = 'stg' AND table_name = 'consultant_work_calendar_fact';\",    \n",
    "    \"consultant_business_key_list\" : \"SELECT consultant_business_key FROM pro.consultant_dim WHERE active = True;\",\n",
    "    \"office_business_key_list\"     : \"SELECT office_business_key FROM pro.office_dim WHERE active = True;\",\n",
    "    \"week_list\"                    : \"SELECT MAX(start_of_week_mon_date), MAX(end_of_week_mon_date) FROM tech.date_dim WHERE iso_week_of_year = \" + str(week_of_year) + \" AND year_value = \" + str(value_year) + \";\"\n",
    "}\n",
    "\n",
    "for value in sql_dict.values():\n",
    "    value = db.run_sql(value)"
   ]
  },
  {
   "cell_type": "code",
   "execution_count": 109,
   "metadata": {},
   "outputs": [
    {
     "ename": "TypeError",
     "evalue": "descriptor 'timestamp' requires a 'datetime.datetime' object but received a 'datetime.date'",
     "output_type": "error",
     "traceback": [
      "\u001b[0;31m---------------------------------------------------------------------------\u001b[0m",
      "\u001b[0;31mTypeError\u001b[0m                                 Traceback (most recent call last)",
      "\u001b[0;32m<ipython-input-109-792f320edbda>\u001b[0m in \u001b[0;36m<module>\u001b[0;34m\u001b[0m\n\u001b[1;32m      4\u001b[0m \u001b[0;31m# })\u001b[0m\u001b[0;34m\u001b[0m\u001b[0;34m\u001b[0m\u001b[0;34m\u001b[0m\u001b[0m\n\u001b[1;32m      5\u001b[0m \u001b[0;34m\u001b[0m\u001b[0m\n\u001b[0;32m----> 6\u001b[0;31m \u001b[0mstart_time\u001b[0m \u001b[0;34m=\u001b[0m \u001b[0mdt\u001b[0m\u001b[0;34m.\u001b[0m\u001b[0mtimestamp\u001b[0m\u001b[0;34m(\u001b[0m\u001b[0mweek_list\u001b[0m\u001b[0;34m[\u001b[0m\u001b[0;36m0\u001b[0m\u001b[0;34m]\u001b[0m\u001b[0;34m[\u001b[0m\u001b[0;36m0\u001b[0m\u001b[0;34m]\u001b[0m\u001b[0;34m)\u001b[0m \u001b[0;34m+\u001b[0m \u001b[0mtimedelta\u001b[0m\u001b[0;34m(\u001b[0m\u001b[0mhours\u001b[0m \u001b[0;34m=\u001b[0m \u001b[0mwork_start_time\u001b[0m\u001b[0;34m)\u001b[0m\u001b[0;34m\u001b[0m\u001b[0;34m\u001b[0m\u001b[0m\n\u001b[0m\u001b[1;32m      7\u001b[0m \u001b[0mprint\u001b[0m\u001b[0;34m(\u001b[0m\u001b[0mstart_time\u001b[0m\u001b[0;34m)\u001b[0m\u001b[0;34m\u001b[0m\u001b[0;34m\u001b[0m\u001b[0m\n\u001b[1;32m      8\u001b[0m df_date = pd.DataFrame({\n",
      "\u001b[0;31mTypeError\u001b[0m: descriptor 'timestamp' requires a 'datetime.datetime' object but received a 'datetime.date'"
     ]
    }
   ],
   "source": [
    "# df_cons = pd.DataFrame({\n",
    "#     \"consultant_business_key\" : consultant_business_key_list,\n",
    "#     \"office_business_key\" : np.random.choice(office_business_key_list, len(consultant_business_key_list)),\n",
    "# })\n",
    "\n",
    "start_time = time.mktime(datetime.timestamp(week_list[0][0]) + timedelta(hours = work_start_time)\n",
    "print(start_time)\n",
    "df_date = pd.DataFrame({\n",
    "    \"work_date\" : pd.date_range(start = week_list[0][0], end = week_list[0][1])\n",
    "})\n",
    "\n",
    "# work_time = work_end_time - work_start_time\n",
    "\n",
    "\n",
    "\n",
    "# df_time = pd.DataFrame({\n",
    "#     \"work_time\" : pd.date_range('2019-01-10', periods = work_time, freq = '8')\n",
    "# })\n",
    "# df_time\n",
    "# print(week_list[0][0])\n",
    "# print(week_list[0][1])"
   ]
  },
  {
   "cell_type": "code",
   "execution_count": 51,
   "metadata": {},
   "outputs": [
    {
     "data": {
      "text/plain": [
       "358400"
      ]
     },
     "execution_count": 51,
     "metadata": {},
     "output_type": "execute_result"
    }
   ],
   "source": [
    "# liczba_dni * liczba_godzin * liczba_pracowników * średnia_liczba_połączeń_na_godzinę\n",
    "# 7 dni w tygodniu , od 6:00 do 22:00 ( 16 godzin )\n",
    "# 100 konsultantów\n",
    "# 5 - 8 połączeń na godzinę / konsultant\n",
    "# dane z 4 tygodni i prognozowanie na ich podstawie\n",
    "#tydzień\n",
    "# 7*16*100*5     # = 56 000\n",
    "# 7*16*100*8     # = 89 600\n",
    "# 4 tygodnie     \n",
    "# 4*7*16*100*5    # = 224 000\n",
    "# 4*7*16*100*8    # = 358 400\n"
   ]
  },
  {
   "cell_type": "code",
   "execution_count": null,
   "metadata": {},
   "outputs": [],
   "source": []
  }
 ],
 "metadata": {
  "kernelspec": {
   "display_name": "Python 3",
   "language": "python",
   "name": "python3"
  },
  "language_info": {
   "codemirror_mode": {
    "name": "ipython",
    "version": 3
   },
   "file_extension": ".py",
   "mimetype": "text/x-python",
   "name": "python",
   "nbconvert_exporter": "python",
   "pygments_lexer": "ipython3",
   "version": "3.7.4"
  }
 },
 "nbformat": 4,
 "nbformat_minor": 2
}
